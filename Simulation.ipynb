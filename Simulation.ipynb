{
 "cells": [
  {
   "cell_type": "code",
   "execution_count": 9,
   "metadata": {},
   "outputs": [],
   "source": [
    "import numpy as np\n",
    "import pandas as pd\n",
    "from glob import glob\n",
    "\n",
    "import seaborn as sns\n",
    "import matplotlib.pyplot as plt\n",
    "\n",
    "from scipy.stats import binom\n",
    "from sklearn.metrics import confusion_matrix\n",
    "\n",
    "import mle\n",
    "import flmp\n",
    "from libfunc import to_table_body\n",
    "\n",
    "import warnings\n",
    "warnings.filterwarnings('ignore')"
   ]
  },
  {
   "cell_type": "markdown",
   "metadata": {},
   "source": [
    "# Load Data"
   ]
  },
  {
   "cell_type": "code",
   "execution_count": 10,
   "metadata": {},
   "outputs": [],
   "source": [
    "# get paths to data files\n",
    "file_paths = glob(\"./data/*.txt\")\n",
    "\n",
    "# load all data into a single array\n",
    "data = np.array([np.loadtxt(fname) for fname in file_paths])\n",
    "N, M, K = data.shape\n",
    "\n",
    "# define number of samples for each subject\n",
    "n_samples = 24 \n",
    "\n",
    "# number of samples for simulated data\n",
    "N_SAMPLES = 100"
   ]
  },
  {
   "cell_type": "markdown",
   "metadata": {},
   "source": [
    "# Model Distributions on Data with FLMP and MLE\n",
    "Fit MLE and FLMP to the data, create the corresponding distribution and sample from these to create simulated data."
   ]
  },
  {
   "cell_type": "code",
   "execution_count": 11,
   "metadata": {},
   "outputs": [],
   "source": [
    "# compute parameters and generate samples\n",
    "samples = {\n",
    "    \"FLMP\": np.zeros((N, M, K)),\n",
    "    \"MLE\": np.zeros((N, M, K))\n",
    "}\n",
    "params = []\n",
    "for i, d in enumerate(data):\n",
    "    # get parameters for MLE and FLMP fits\n",
    "    _, c_A, c_V, std_A, std_V = mle.fit(np.ones(4), d, n_samples)\n",
    "    _, tA, tV = flmp.fit(np.ones(K*2), d, n_samples, K)\n",
    "\n",
    "    # save parameters\n",
    "    params.append(np.concatenate([tA, tV, np.array([c_A, std_A, c_V, std_V])]))\n",
    "\n",
    "    # sample from FLMP\n",
    "    p_A, p_V, p_AV = flmp.compute_probs(tA, tV)\n",
    "    samples[\"FLMP\"][i] = binom.rvs(N_SAMPLES, np.vstack([p_A.T, p_V.T, p_AV]))\n",
    "    \n",
    "    # sample from MLE\n",
    "    p_A, p_V, p_AV = mle.compute_probs(c_A, c_V, np.exp(std_A), np.exp(std_V))\n",
    "    samples[\"MLE\"][i]  = binom.rvs(N_SAMPLES, np.vstack([p_A.T, p_V.T, p_AV]))"
   ]
  },
  {
   "cell_type": "markdown",
   "metadata": {},
   "source": [
    "# Fit FLMP and MLE on Simulated Data"
   ]
  },
  {
   "cell_type": "code",
   "execution_count": 12,
   "metadata": {},
   "outputs": [],
   "source": [
    "tmp = {\n",
    "    \"Fitting Model\": [],\n",
    "    \"Sampling Model\": [], \n",
    "    \"Subject\": [],\n",
    "    \"NLL\": []\n",
    "}\n",
    "for model in samples:\n",
    "    for i, Subject in enumerate(samples[model]):\n",
    "        # compute negative log-likelihood for MLE fit on both simulated data\n",
    "        nll, _, _, _, _ = mle.fit(np.ones(4), Subject, N_SAMPLES)\n",
    "        tmp[\"Fitting Model\"].append(\"MLE\")\n",
    "        tmp[\"Sampling Model\"].append(model)\n",
    "        tmp[\"Subject\"].append(f\"{i+1}\")\n",
    "        tmp[\"NLL\"].append(nll)\n",
    "        \n",
    "        # compute negative log-likelihood for FLMP fit on both simulated data\n",
    "        nll, _, _ = flmp.fit(np.ones(K*2), Subject, N_SAMPLES, K)\n",
    "        tmp[\"Fitting Model\"].append(\"FLMP\")\n",
    "        tmp[\"Sampling Model\"].append(model)\n",
    "        tmp[\"Subject\"].append(f\"{i+1}\")\n",
    "        tmp[\"NLL\"].append(nll)"
   ]
  },
  {
   "cell_type": "code",
   "execution_count": 51,
   "metadata": {},
   "outputs": [],
   "source": [
    "df_fit = pd.DataFrame.from_dict(tmp)"
   ]
  },
  {
   "cell_type": "code",
   "execution_count": 43,
   "metadata": {},
   "outputs": [
    {
     "name": "stdout",
     "output_type": "stream",
     "text": [
      "  Fitting Model Sampling Model Subject        NLL\n",
      "1          FLMP           FLMP       1  68.253611\n",
      "   Fitting Model Sampling Model Subject       NLL\n",
      "10           MLE            MLE       1  78.77272\n",
      "  Fitting Model Sampling Model Subject        NLL\n",
      "3          FLMP           FLMP       2  46.293495\n",
      "   Fitting Model Sampling Model Subject        NLL\n",
      "12           MLE            MLE       2  63.441832\n",
      "  Fitting Model Sampling Model Subject        NLL\n",
      "5          FLMP           FLMP       3  69.025277\n",
      "   Fitting Model Sampling Model Subject        NLL\n",
      "14           MLE            MLE       3  79.137655\n",
      "  Fitting Model Sampling Model Subject        NLL\n",
      "7          FLMP           FLMP       4  69.094061\n",
      "   Fitting Model Sampling Model Subject       NLL\n",
      "16           MLE            MLE       4  82.96229\n",
      "  Fitting Model Sampling Model Subject        NLL\n",
      "9          FLMP           FLMP       5  56.119569\n",
      "   Fitting Model Sampling Model Subject        NLL\n",
      "18           MLE            MLE       5  58.588617\n"
     ]
    }
   ],
   "source": [
    "for subject in df_fit['Subject'].unique():\n",
    "    subject_data = df_fit[df_fit['Subject'] == subject]\n",
    "    for sm in subject_data['Sampling Model'].unique():\n",
    "        smd = subject_data[subject_data['Sampling Model'] == sm]\n",
    "        print(smd[smd['NLL'] == smd['NLL'].min()])"
   ]
  },
  {
   "cell_type": "code",
   "execution_count": 49,
   "metadata": {},
   "outputs": [
    {
     "data": {
      "image/png": "[encoded data removed]",
      "text/plain": [
       "<Figure size 432x432 with 2 Axes>"
      ]
     },
     "metadata": {},
     "output_type": "display_data"
    }
   ],
   "source": [
    "plot_options = {\n",
    "    'annot': True,\n",
    "    'xticklabels': ['FLMP', 'MLE'],\n",
    "    'yticklabels': ['FLMP', 'MLE'],\n",
    "}\n",
    "y_true = [\"FLMP\"]*5 + [\"MLE\"]*5\n",
    "y_pred = [\"FLMP\"]*5 + [\"MLE\"]*5\n",
    "\n",
    "# get confusion matrix and normalized confusion matrix\n",
    "cm = confusion_matrix(y_true, y_pred)\n",
    "cm_norm = cm.astype('float') / cm.sum(axis=1)[:, np.newaxis]\n",
    "\n",
    "# display confusion matrices\n",
    "plt.figure(figsize=(6, 6))\n",
    "sns.set(font_scale=1) \n",
    "sns.heatmap(cm, **plot_options)\n",
    "\n",
    "plt.tick_params(axis='both', which='major', labelsize=13)  # Adjust to fit\n",
    "\n",
    "plt.xlabel('Best Fitting Model', fontsize=13)\n",
    "plt.ylabel('Sampling Model', fontsize=13)\n",
    "plt.title('Confusion Matrix', fontsize=15)\n",
    "plt.tight_layout()\n",
    "plt.savefig(\"./visualizations/confusion_matrix.png\", bbox_inches=\"tight\")"
   ]
  },
  {
   "cell_type": "markdown",
   "metadata": {},
   "source": [
    "# Print out stuff for Latex report"
   ]
  },
  {
   "cell_type": "code",
   "execution_count": 16,
   "metadata": {},
   "outputs": [
    {
     "name": "stdout",
     "output_type": "stream",
     "text": [
      "Parameters for all subjects\n",
      "Subject 1 & -3.31 & -2.29 & -1.52 & 2.46 & 3.21 & -2.97 & 0.84 & 2.91 & 3.58 & 3.83 & 3.31 & -0.10 & 1.86 & -0.13\\\\\n",
      "Subject 2 & -3.68 & -1.83 & -0.32 & 2.58 & 4.83 & -5.29 & 0.91 & 3.20 & 5.09 & 5.87 & 3.02 & -0.27 & 1.98 & -0.53\\\\\n",
      "Subject 3 & -2.65 & -1.74 & -0.69 & 2.62 & 5.41 & -2.00 & 0.25 & 1.54 & 2.37 & 2.62 & 2.90 & -0.10 & 2.05 & 0.13\\\\\n",
      "Subject 4 & -4.12 & -3.11 & -2.04 & 2.25 & 4.62 & -2.52 & -1.19 & -0.31 & 1.26 & 2.12 & 3.36 & -0.36 & 3.11 & 0.13\\\\\n",
      "Subject 5 & -5.43 & -3.93 & -1.42 & 2.92 & 6.24 & -3.01 & 0.42 & 1.73 & 2.42 & 3.05 & 3.32 & -0.53 & 2.07 & -0.08\n",
      "\n",
      "Simulated data for 'Subject 1'\n",
      "(ignore first column)\n",
      "1 & 6 & 12 & 14 & 88 & 94 & 0 & 7 & 26 & 67 & 99\\\\\n",
      "2 & 3 & 70 & 99 & 95 & 98 & 7 & 58 & 90 & 100 & 100\\\\\n",
      "3 & 1 & 0 & 1 & 36 & 62 & 1 & 6 & 12 & 41 & 66\\\\\n",
      "4 & 8 & 19 & 27 & 94 & 99 & 4 & 17 & 45 & 71 & 93\\\\\n",
      "5 & 45 & 61 & 86 & 100 & 100 & 21 & 41 & 83 & 89 & 99\\\\\n",
      "6 & 55 & 80 & 91 & 100 & 100 & 52 & 76 & 95 & 94 & 100\\\\\n",
      "7 & 58 & 87 & 91 & 100 & 100 & 74 & 95 & 100 & 100 & 100\n",
      "\n",
      "Negative log-likelihoods for \"Subject 1\"\n"
     ]
    },
    {
     "data": {
      "text/html": [
       "<div>\n",
       "<style scoped>\n",
       "    .dataframe tbody tr th:only-of-type {\n",
       "        vertical-align: middle;\n",
       "    }\n",
       "\n",
       "    .dataframe tbody tr th {\n",
       "        vertical-align: top;\n",
       "    }\n",
       "\n",
       "    .dataframe thead th {\n",
       "        text-align: right;\n",
       "    }\n",
       "</style>\n",
       "<table border=\"1\" class=\"dataframe\">\n",
       "  <thead>\n",
       "    <tr style=\"text-align: right;\">\n",
       "      <th></th>\n",
       "      <th>Sampling Model</th>\n",
       "      <th>NLL</th>\n",
       "    </tr>\n",
       "    <tr>\n",
       "      <th>Fitting Model</th>\n",
       "      <th></th>\n",
       "      <th></th>\n",
       "    </tr>\n",
       "  </thead>\n",
       "  <tbody>\n",
       "    <tr>\n",
       "      <th>MLE</th>\n",
       "      <td>FLMP</td>\n",
       "      <td>224.070378</td>\n",
       "    </tr>\n",
       "    <tr>\n",
       "      <th>FLMP</th>\n",
       "      <td>FLMP</td>\n",
       "      <td>68.253611</td>\n",
       "    </tr>\n",
       "    <tr>\n",
       "      <th>MLE</th>\n",
       "      <td>MLE</td>\n",
       "      <td>78.772720</td>\n",
       "    </tr>\n",
       "    <tr>\n",
       "      <th>FLMP</th>\n",
       "      <td>MLE</td>\n",
       "      <td>93.058033</td>\n",
       "    </tr>\n",
       "  </tbody>\n",
       "</table>\n",
       "</div>"
      ],
      "text/plain": [
       "              Sampling Model         NLL\n",
       "Fitting Model                           \n",
       "MLE                     FLMP  224.070378\n",
       "FLMP                    FLMP   68.253611\n",
       "MLE                      MLE   78.772720\n",
       "FLMP                     MLE   93.058033"
      ]
     },
     "execution_count": 16,
     "metadata": {},
     "output_type": "execute_result"
    }
   ],
   "source": [
    "# print out parameters in latex format\n",
    "print('Parameters for all subjects')\n",
    "print(to_table_body(params))\n",
    "\n",
    "# display data for a single subject\n",
    "SUBJECT_NUMBER = 0\n",
    "print(f\"\\nSimulated data for 'Subject {SUBJECT_NUMBER+1}'\\n(ignore first column)\")\n",
    "print(to_table_body(np.hstack([\n",
    "    samples['FLMP'][SUBJECT_NUMBER], \n",
    "    samples['MLE'][SUBJECT_NUMBER]\n",
    "]), num_float=False).replace('Subject ', ''))\n",
    "\n",
    "# extract dataframe for the single subject of negative log-likelihoods\n",
    "print(f'\\nNegative log-likelihoods for \"Subject {SUBJECT_NUMBER+1}\"')\n",
    "df_fit_ = df_fit.reset_index()\n",
    "df_fit_ = df_fit_[df_fit_['Subject'].astype(int) == SUBJECT_NUMBER + 1].set_index([\"Fitting Model\"])\n",
    "df_fit_[df_fit_.columns[df_fit_.columns.isin(['Sampling Model', 'NLL'])]]"
   ]
  },
  {
   "cell_type": "code",
   "execution_count": null,
   "metadata": {},
   "outputs": [],
   "source": []
  }
 ],
 "metadata": {
  "interpreter": {
   "hash": "3d8026c75a4908d7e0e048edfdade2cb3b8819d75b067a00cc154c2b5f826605"
  },
  "kernelspec": {
   "display_name": "Python 3.9.2 64-bit ('venv': venv)",
   "language": "python",
   "name": "python3"
  },
  "language_info": {
   "codemirror_mode": {
    "name": "ipython",
    "version": 3
   },
   "file_extension": ".py",
   "mimetype": "text/x-python",
   "name": "python",
   "nbconvert_exporter": "python",
   "pygments_lexer": "ipython3",
   "version": "3.9.9"
  },
  "orig_nbformat": 4
 },
 "nbformat": 4,
 "nbformat_minor": 2
}
