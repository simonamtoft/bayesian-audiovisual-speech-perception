{
 "cells": [
  {
   "cell_type": "code",
   "execution_count": null,
   "metadata": {},
   "outputs": [],
   "source": [
    "import numpy as np\n",
    "import pandas as pd\n",
    "from glob import glob\n",
    "\n",
    "import seaborn as sns\n",
    "import matplotlib.pyplot as plt\n",
    "\n",
    "from scipy.optimize import minimize\n",
    "\n",
    "from libfunc import compute_log_likelihood\n",
    "\n",
    "from scipy.stats import binom\n",
    "\n",
    "import mle\n",
    "import flmp\n",
    "\n",
    "import warnings\n",
    "warnings.filterwarnings('ignore')"
   ]
  },
  {
   "cell_type": "code",
   "execution_count": null,
   "metadata": {},
   "outputs": [],
   "source": [
    "# get paths to data files\n",
    "file_paths = glob(\"./data/*.txt\")\n",
    "\n",
    "# load all data into a single array\n",
    "data = np.array([np.loadtxt(fname) for fname in file_paths])\n",
    "N, M, K = data.shape\n",
    "\n",
    "# define number of samples for each subject\n",
    "n_samples = 24 \n",
    "\n",
    "# sim data\n",
    "N_SAMPLES = 100"
   ]
  },
  {
   "cell_type": "code",
   "execution_count": null,
   "metadata": {},
   "outputs": [],
   "source": [
    "# params = {\n",
    "#     \"flmp\": np.random.uniform(low=-5, high=5, size=(N, 2, K)),\n",
    "#     \"mle\": np.random.uniform(low=-5, high=5, size=(N, 4))\n",
    "# }\n",
    "samples = {\n",
    "    \"FLMP\": np.zeros((N,M,K)),\n",
    "    \"MLE\": np.zeros((N,M,K))\n",
    "}\n",
    "for i, d in enumerate(data):\n",
    "    _, c_A, c_V, std_A, std_V = mle.fit(np.ones(4), d, n_samples)\n",
    "    _, tA, tV = flmp.fit(np.ones(K*2), d, n_samples, K)\n",
    "\n",
    "    p_A, p_V, p_AV = flmp.compute_probs(tA, tV)\n",
    "    samples[\"FLMP\"][i] = binom.rvs(N_SAMPLES, np.vstack([p_A.T, p_V.T, p_AV]))\n",
    "    \n",
    "    p_A, p_V, p_AV = mle.compute_probs(c_A, c_V, np.exp(std_A), np.exp(std_V))\n",
    "    samples[\"MLE\"][i]  = binom.rvs(N_SAMPLES, np.vstack([p_A.T, p_V.T, p_AV]))"
   ]
  },
  {
   "cell_type": "code",
   "execution_count": null,
   "metadata": {},
   "outputs": [],
   "source": [
    "tmp = {\n",
    "        \"Fitting Model\": [],\n",
    "        \"Sampling Model\": [], \n",
    "        \"Subject\": [],\n",
    "        \"NLL\": []\n",
    "}\n",
    "for model in samples:\n",
    "    for i, Subject in enumerate(samples[model]):\n",
    "        nll, _, _, _, _ = mle.fit(np.ones(4), Subject, N_SAMPLES)\n",
    "        tmp[\"Fitting Model\"].append(\"MLE\")\n",
    "        tmp[\"Sampling Model\"].append(model)\n",
    "        tmp[\"Subject\"].append(f\"{i+1}\")\n",
    "        tmp[\"NLL\"].append(nll)\n",
    "        \n",
    "\n",
    "        nll, _, _ = flmp.fit(np.ones(K*2), Subject, N_SAMPLES, K)\n",
    "        tmp[\"Fitting Model\"].append(\"FLMP\")\n",
    "        tmp[\"Sampling Model\"].append(model)\n",
    "        tmp[\"Subject\"].append(f\"{i+1}\")\n",
    "        tmp[\"NLL\"].append(nll)"
   ]
  },
  {
   "cell_type": "code",
   "execution_count": null,
   "metadata": {},
   "outputs": [],
   "source": [
    "pd.DataFrame.from_dict(tmp).set_index([\"Fitting Model\", \"Subject\"])"
   ]
  },
  {
   "cell_type": "code",
   "execution_count": null,
   "metadata": {},
   "outputs": [],
   "source": [
    "df.loc[\"a\", \"b\"] = 1"
   ]
  },
  {
   "cell_type": "code",
   "execution_count": null,
   "metadata": {},
   "outputs": [],
   "source": [
    "df"
   ]
  }
 ],
 "metadata": {
  "interpreter": {
   "hash": "3d8026c75a4908d7e0e048edfdade2cb3b8819d75b067a00cc154c2b5f826605"
  },
  "kernelspec": {
   "display_name": "Python 3.9.2 64-bit ('venv': venv)",
   "language": "python",
   "name": "python3"
  },
  "language_info": {
   "codemirror_mode": {
    "name": "ipython",
    "version": 3
   },
   "file_extension": ".py",
   "mimetype": "text/x-python",
   "name": "python",
   "nbconvert_exporter": "python",
   "pygments_lexer": "ipython3",
   "version": "3.9.2"
  },
  "orig_nbformat": 4
 },
 "nbformat": 4,
 "nbformat_minor": 2
}
