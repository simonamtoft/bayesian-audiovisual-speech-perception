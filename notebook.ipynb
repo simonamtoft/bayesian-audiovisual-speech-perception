{
 "cells": [
  {
   "cell_type": "markdown",
   "metadata": {},
   "source": [
    "# 1.1 Data"
   ]
  },
  {
   "cell_type": "code",
   "execution_count": 1,
   "metadata": {},
   "outputs": [],
   "source": [
    "# Imports\n",
    "import numpy as np\n",
    "from glob import glob\n",
    "from os import path\n",
    "from scipy.special import softmax\n",
    "from scipy.optimize import minimize, LinearConstraint, Bounds\n",
    "from scipy.stats import binom\n",
    "\n",
    "data_dir = \"data\"\n",
    "file_paths = glob(path.join(data_dir, \"*.txt\"))\n",
    "\n",
    "# N x M x K\n",
    "# 5 FILES x 7 ROWS  x 5 COLUMNS\n",
    "# ROW 1: Audio \n",
    "# ROW 2: Visual\n",
    "# ROW 3-7: Visual going from 'b' (row 3) to 'd' (row 7)\n",
    "# Columns: Audio from 'b' (col 1) to 'd' (col 5)\n",
    "data = np.array([np.loadtxt(fname) for fname in file_paths])\n",
    "N, M, K = data.shape\n",
    "\n",
    "AUDIO_DATA       = data[:, 0, :]\n",
    "VISUAL_DATA      = data[:, 1, :]\n",
    "AUDIOVISUAL_DATA = data[:, 2:, :]"
   ]
  },
  {
   "cell_type": "code",
   "execution_count": 18,
   "metadata": {},
   "outputs": [
    {
     "data": {
      "text/plain": [
       "(-1.0986122899482371,\n",
       " array([0. , 0. , 0. , 0.5, 0.5]),\n",
       " array([0.   , 0.   , 0.333, 0.333, 0.333]),\n",
       " True)"
      ]
     },
     "execution_count": 18,
     "metadata": {},
     "output_type": "execute_result"
    }
   ],
   "source": [
    "def objective_function(theta, data):\n",
    "    likelihood = 0\n",
    "    theta_a = theta[0:K]\n",
    "    theta_v = theta[K: ]\n",
    "\n",
    "    p_a = softmax(theta_a).reshape(-1,1)\n",
    "    p_v = softmax(theta_v).reshape(-1,1)\n",
    "    \n",
    "    # Outer product for all combinations\n",
    "    p_av = (p_a @ p_v.T) / (p_a @ p_v.T + (1 - p_a) @ (1 - p_v).T)\n",
    "\n",
    "    likelihood += binom.pmf(data[0 ], 24, p_a ).sum()\n",
    "    likelihood += binom.pmf(data[1 ], 24, p_v ).sum()\n",
    "    likelihood += binom.pmf(data[2:], 24, p_av).sum()\n",
    "\n",
    "    return -np.log(likelihood)\n",
    "\n",
    "theta = np.concatenate([AUDIO_DATA[0], VISUAL_DATA[0]])\n",
    "opt_result = minimize(objective_function, theta, args=(data[0]))\n",
    "opt_result.fun, np.round(softmax(opt_result.x[0:K]), 3), np.round(softmax(opt_result.x[K:]), 3), opt_result.success"
   ]
  }
 ],
 "metadata": {
  "interpreter": {
   "hash": "3d8026c75a4908d7e0e048edfdade2cb3b8819d75b067a00cc154c2b5f826605"
  },
  "kernelspec": {
   "display_name": "Python 3.9.2 64-bit ('venv': venv)",
   "name": "python3"
  },
  "language_info": {
   "codemirror_mode": {
    "name": "ipython",
    "version": 3
   },
   "file_extension": ".py",
   "mimetype": "text/x-python",
   "name": "python",
   "nbconvert_exporter": "python",
   "pygments_lexer": "ipython3",
   "version": "3.9.2"
  },
  "orig_nbformat": 4
 },
 "nbformat": 4,
 "nbformat_minor": 2
}
