{
 "cells": [
  {
   "cell_type": "markdown",
   "metadata": {},
   "source": [
    "# 1.1 Data"
   ]
  },
  {
   "cell_type": "code",
   "execution_count": 111,
   "metadata": {},
   "outputs": [],
   "source": [
    "# Imports\n",
    "import numpy as np\n",
    "from glob import glob\n",
    "from os import path\n",
    "from scipy.special import comb\n",
    "from scipy.optimize import minimize\n",
    "from scipy.stats import binom\n",
    "\n",
    "data_dir = \"data\"\n",
    "file_paths = glob(path.join(data_dir, \"*.txt\"))\n",
    "\n",
    "# N x M x K\n",
    "# 5 FILES x 7 ROWS  x 5 COLUMNS\n",
    "# ROW 1: Audio \n",
    "# ROW 2: Visual\n",
    "# ROW 3-7: Visual going from 'b' (row 3) to 'd' (row 7)\n",
    "# Columns: Audio from 'b' (col 1) to 'd' (col 5)\n",
    "data = np.array([np.loadtxt(fname) for fname in file_paths], dtype=np.int64)\n",
    "N, M, K = data.shape\n",
    "\n",
    "AUDIO_DATA       = data[:, 0, :]\n",
    "VISUAL_DATA      = data[:, 1, :]\n",
    "AUDIOVISUAL_DATA = data[:, 2:, :]"
   ]
  },
  {
   "cell_type": "code",
   "execution_count": 112,
   "metadata": {},
   "outputs": [],
   "source": [
    "def baseline_softmax(theta):\n",
    "    e = np.exp(theta)\n",
    "    return e / (e +1 )"
   ]
  },
  {
   "cell_type": "code",
   "execution_count": 113,
   "metadata": {},
   "outputs": [],
   "source": [
    "def binomial_pmf(k, n, p):\n",
    "    return comb(n, k) * np.power(p, k) * np.power(1 - p, n - k)"
   ]
  },
  {
   "cell_type": "code",
   "execution_count": 117,
   "metadata": {},
   "outputs": [
    {
     "data": {
      "text/plain": [
       "array([[ True,  True,  True,  True,  True],\n",
       "       [ True,  True,  True,  True,  True],\n",
       "       [ True,  True,  True,  True,  True],\n",
       "       [ True,  True,  True,  True,  True],\n",
       "       [ True,  True,  True,  True,  True],\n",
       "       [ True,  True,  True,  True,  True],\n",
       "       [ True,  True,  True,  True,  True]])"
      ]
     },
     "execution_count": 117,
     "metadata": {},
     "output_type": "execute_result"
    }
   ],
   "source": [
    "args = (data[0], 24, np.vstack([p_a.T, p_v.T, p_av]))\n",
    "np.isclose(binom.logpmf(*args), np.log(binomial_pmf(*args)))"
   ]
  },
  {
   "cell_type": "code",
   "execution_count": 153,
   "metadata": {},
   "outputs": [
    {
     "name": "stdout",
     "output_type": "stream",
     "text": [
      "Subject  0\n",
      "Converged: True NLL: 70.25765786050867\n",
      "theta_a [-4.78771456 -1.95605347 -0.25823521  1.43526758  1.67202756]\n",
      "theta_v [-1.11834348  0.51165125  1.54670807  4.28161025  5.03519658]\n",
      "===\n",
      "p_a [0.00826264 0.12389479 0.43579758 0.80772074 0.84184596]\n",
      "p_v [0.24631868 0.62519349 0.82443777 0.98636801 0.99353712]\n",
      "p_av\n",
      " [[0.003 0.014 0.038 0.376 0.562]\n",
      " [0.044 0.191 0.399 0.911 0.956]\n",
      " [0.202 0.563 0.784 0.982 0.992]\n",
      " [0.579 0.875 0.952 0.997 0.998]\n",
      " [0.635 0.899 0.962 0.997 0.999]]\n",
      "===\n",
      "data\n",
      "[[0.937 0.718 0.398 0.15  0.16 ]\n",
      " [0.016 0.044 0.097 0.103 0.198]\n",
      " [0.025 0.138 0.196 0.653 0.818]\n",
      " [0.163 0.017 0.216 0.924 0.964]\n",
      " [0.143 0.059 0.375 0.94  0.971]]\n",
      "\n",
      "\n",
      "\n",
      "Subject  1\n",
      "Converged: True NLL: 41.79765647023454\n",
      "theta_a [-6.5547331  -1.91458432  0.34489198  3.09946669  3.8780471 ]\n",
      "theta_v [-1.63230406  1.07303258  2.55000152  4.14860534  6.12230231]\n",
      "===\n",
      "p_a [0.00142134 0.1284667  0.58537835 0.95687074 0.97972825]\n",
      "p_v [0.16351497 0.7451732  0.92757362 0.98445892 0.9978114 ]\n",
      "p_av\n",
      " [[0.    0.004 0.018 0.083 0.394]\n",
      " [0.028 0.301 0.654 0.903 0.985]\n",
      " [0.216 0.805 0.948 0.989 0.998]\n",
      " [0.813 0.985 0.996 0.999 1.   ]\n",
      " [0.904 0.993 0.998 1.    1.   ]]\n",
      "===\n",
      "data\n",
      "[[0.993 0.905 0.648 0.283 0.163]\n",
      " [0.024 0.161 0.085 0.216 0.702]\n",
      " [0.071 0.149 0.275 0.766 0.963]\n",
      " [0.191 0.256 0.919 0.983 0.998]\n",
      " [0.215 0.844 0.962 0.992 0.999]]\n",
      "\n",
      "\n",
      "\n",
      "Subject  2\n",
      "Converged: True NLL: 68.33041239058727\n",
      "theta_a [-2.95926876 -1.13433543 -0.10648952  1.29981605  1.60598491]\n",
      "theta_v [-1.5345231  -0.36988906  0.86865858  3.57910899  5.65092259]\n",
      "===\n",
      "p_a [0.04930027 0.2433619  0.47340275 0.78580402 0.8328532 ]\n",
      "p_v [0.17733287 0.40856783 0.7044665  0.97285676 0.99649803]\n",
      "p_av\n",
      " [[0.011 0.035 0.11  0.65  0.937]\n",
      " [0.065 0.182 0.434 0.92  0.989]\n",
      " [0.162 0.383 0.682 0.97  0.996]\n",
      " [0.442 0.717 0.897 0.992 0.999]\n",
      " [0.518 0.775 0.922 0.994 0.999]]\n",
      "===\n",
      "data\n",
      "[[0.205 0.43  0.233 0.168 0.337]\n",
      " [0.135 0.131 0.063 0.179 0.77 ]\n",
      " [0.051 0.166 0.142 0.358 0.911]\n",
      " [0.137 0.005 0.225 0.834 0.977]\n",
      " [0.062 0.193 0.174 0.875 0.983]]\n",
      "\n",
      "\n",
      "\n",
      "Subject  3\n",
      "Converged: True NLL: 72.31480656268624\n",
      "theta_a [-2.66352667 -1.96654419 -1.27082534  0.82708953  1.69431479]\n",
      "theta_v [-3.6998323  -2.16532745 -1.17804284  2.62584289  4.25102954]\n",
      "===\n",
      "p_a [0.06516018 0.12276056 0.219116   0.69573917 0.84479075]\n",
      "p_v [0.02413097 0.10290759 0.23540428 0.93250638 0.98595064]\n",
      "p_av\n",
      " [[0.002 0.008 0.021 0.491 0.83 ]\n",
      " [0.003 0.016 0.041 0.659 0.908]\n",
      " [0.007 0.031 0.08  0.795 0.952]\n",
      " [0.054 0.208 0.413 0.969 0.994]\n",
      " [0.119 0.384 0.626 0.987 0.997]]\n",
      "===\n",
      "data\n",
      "[[0.96  0.159 0.076 0.126 0.199]\n",
      " [0.92  0.682 0.363 0.071 0.238]\n",
      " [0.847 0.468 0.282 0.074 0.305]\n",
      " [0.362 0.188 0.083 0.03  0.861]\n",
      " [0.168 0.112 0.113 0.232 0.939]]\n",
      "\n",
      "\n",
      "\n",
      "Subject  4\n",
      "Converged: True NLL: 73.02387779050491\n",
      "theta_a [-4.43200464 -2.15618258 -0.97970331  0.64690815  1.04513999]\n",
      "theta_v [-3.56948678 -1.18540148  1.06838914  4.37878038  7.72373746]\n",
      "===\n",
      "p_a [0.0117509  0.1037549  0.27295066 0.65631338 0.73984055]\n",
      "p_v [0.02739848 0.23408239 0.74429045 0.98761468 0.99955799]\n",
      "p_av\n",
      " [[0.    0.004 0.033 0.487 0.964]\n",
      " [0.003 0.034 0.252 0.902 0.996]\n",
      " [0.01  0.103 0.522 0.968 0.999]\n",
      " [0.051 0.369 0.848 0.993 1.   ]\n",
      " [0.074 0.465 0.892 0.996 1.   ]]\n",
      "===\n",
      "data\n",
      "[[0.992 0.917 0.367 0.16  0.372]\n",
      " [0.072 0.369 0.174 0.22  0.913]\n",
      " [0.777 0.268 0.157 0.364 0.972]\n",
      " [0.227 0.02  0.04  0.135 0.994]\n",
      " [0.302 0.039 0.147 0.9   0.996]]\n",
      "\n",
      "\n",
      "\n"
     ]
    }
   ],
   "source": [
    "def objective_function(theta, subject_data):\n",
    "    theta_a = theta[0:K]\n",
    "    theta_v = theta[K: ]\n",
    "\n",
    "    p_a = np.array([baseline_softmax(theta) for theta in theta_a]).reshape(-1,1)\n",
    "    p_v = np.array([baseline_softmax(theta) for theta in theta_v]).reshape(-1,1)\n",
    "    \n",
    "    # Outer product for all combinations\n",
    "    p_av = (p_a @ p_v.T) / (p_a @ p_v.T + (1 - p_a) @ (1 - p_v).T)\n",
    "    # likelihoods = binom.logpmf(subject_data, 24, np.vstack([p_a.T, p_v.T, p_av]))\n",
    "    likelihoods = np.log(binomial_pmf(subject_data, 24, np.vstack([p_a.T, p_v.T, p_av])))\n",
    "\n",
    "    return -(likelihoods.sum())\n",
    "\n",
    "theta_set = []\n",
    "for i in range(5):\n",
    "    theta = np.random.randn(K*2)\n",
    "    opt_result = minimize(objective_function, theta, args=(data[i]))\n",
    "    objective, theta_a, theta_v, success = (\n",
    "        opt_result.fun, \n",
    "        (opt_result.x[0:K]), \n",
    "        (opt_result.x[K:]), \n",
    "        opt_result.success\n",
    "    )\n",
    "\n",
    "    theta_set.append(np.concatenate([theta_a,theta_v]))\n",
    "    print(\"Subject \", i)\n",
    "    print(\"Converged:\",success, \"NLL:\",objective)\n",
    "    print(\"theta_a\", theta_a)\n",
    "    print(\"theta_v\", theta_v)\n",
    "    p_a = np.array([baseline_softmax(theta) for theta in theta_a]).reshape(-1,1)\n",
    "    p_v = np.array([baseline_softmax(theta) for theta in theta_v]).reshape(-1,1)\n",
    "    p_av = (p_a @ p_v.T) / (p_a @ p_v.T + (1 - p_a) @ (1 - p_v).T)\n",
    "    print(\"===\")\n",
    "    print(\"p_a\", p_a.flatten())\n",
    "    print(\"p_v\", p_v.flatten())\n",
    "    print(\"p_av\\n\", np.round(p_av, 3))\n",
    "    print(\"===\")\n",
    "    print(\"data\")\n",
    "    print(np.round(binom.pmf(data[i][2:], 24, p_av), 3))\n",
    "    print(\"\\n\\n\")"
   ]
  },
  {
   "cell_type": "code",
   "execution_count": 161,
   "metadata": {},
   "outputs": [
    {
     "name": "stdout",
     "output_type": "stream",
     "text": [
      "Subject 1 & -4.79 & -1.96 & -0.26 & 1.44 & 1.67 & -1.12 & 0.51 & 1.55 & 4.28 & 5.04\\\\\n",
      "Subject 2 & -6.55 & -1.91 & 0.34 & 3.10 & 3.88 & -1.63 & 1.07 & 2.55 & 4.15 & 6.12\\\\\n",
      "Subject 3 & -2.96 & -1.13 & -0.11 & 1.30 & 1.61 & -1.53 & -0.37 & 0.87 & 3.58 & 5.65\\\\\n",
      "Subject 4 & -2.66 & -1.97 & -1.27 & 0.83 & 1.69 & -3.70 & -2.17 & -1.18 & 2.63 & 4.25\\\\\n",
      "Subject 5 & -4.43 & -2.16 & -0.98 & 0.65 & 1.05 & -3.57 & -1.19 & 1.07 & 4.38 & 7.72\n"
     ]
    }
   ],
   "source": [
    "print(\"\\\\\\\\\\n\".join([f\"Subject {i+1} & \" + \" & \".join(np.char.mod('%.2f', x)) for i, x in enumerate(p_set)]))"
   ]
  }
 ],
 "metadata": {
  "interpreter": {
   "hash": "3d8026c75a4908d7e0e048edfdade2cb3b8819d75b067a00cc154c2b5f826605"
  },
  "kernelspec": {
   "display_name": "Python 3.9.2 64-bit ('venv': venv)",
   "name": "python3"
  },
  "language_info": {
   "codemirror_mode": {
    "name": "ipython",
    "version": 3
   },
   "file_extension": ".py",
   "mimetype": "text/x-python",
   "name": "python",
   "nbconvert_exporter": "python",
   "pygments_lexer": "ipython3",
   "version": "3.9.2"
  },
  "orig_nbformat": 4
 },
 "nbformat": 4,
 "nbformat_minor": 2
}
