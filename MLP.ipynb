{
 "cells": [
  {
   "cell_type": "code",
   "execution_count": null,
   "metadata": {},
   "outputs": [],
   "source": [
    "import numpy as np\n",
    "from os import path\n",
    "from glob import glob\n",
    "\n",
    "import seaborn as sns\n",
    "import matplotlib.pyplot as plt\n",
    "sns.set()\n",
    "\n",
    "from scipy.stats import binom\n",
    "from scipy.optimize import minimize, LinearConstraint, Bounds"
   ]
  },
  {
   "cell_type": "code",
   "execution_count": null,
   "metadata": {},
   "outputs": [],
   "source": [
    "#https://github.com/seby-sbirna/Cognitive-Modeling/blob/master/W9%20-%20Bayesian%20Multisensory%20Integration/MLEexcersiseSolution.m"
   ]
  }
 ],
 "metadata": {
  "interpreter": {
   "hash": "830bd4b94685321d0b550ba9a75ad9d58de144fde38c75487e899dd4e7e6ada5"
  },
  "kernelspec": {
   "display_name": "Python 3.9.0 64-bit",
   "language": "python",
   "name": "python3"
  },
  "language_info": {
   "name": "python",
   "version": "3.9.0"
  },
  "orig_nbformat": 4
 },
 "nbformat": 4,
 "nbformat_minor": 2
}
