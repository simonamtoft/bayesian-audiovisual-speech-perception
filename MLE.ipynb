{
 "cells": [
  {
   "cell_type": "markdown",
   "metadata": {},
   "source": [
    "# Fitting an early MLE\n",
    "In this notebook we will fit an early MLE model to audiovisual speech perception data."
   ]
  },
  {
   "cell_type": "code",
   "execution_count": 4,
   "metadata": {},
   "outputs": [],
   "source": [
    "import numpy as np\n",
    "from glob import glob\n",
    "\n",
    "import seaborn as sns\n",
    "import matplotlib.pyplot as plt\n",
    "sns.set()\n",
    "\n",
    "from scipy.stats import norm\n",
    "from scipy.optimize import minimize\n",
    "\n",
    "from likelihoods import compute_log_likelihood"
   ]
  },
  {
   "cell_type": "markdown",
   "metadata": {},
   "source": [
    "## Prepare Data\n",
    "The data consists of five text files, each containing seven rows and five columns, where:\n",
    "- Row 1: Audiotorial data\n",
    "- Row 2: Visual data\n",
    "- Rows 3-7: Audiovisual data\n",
    "    - a combination of rows 1 and 2\n",
    "    - visual goes from 'b' (row 3) to 'd' (row 7) \n",
    "    - audio goes from 'b' (col 1) to 'd' (col 5)"
   ]
  },
  {
   "cell_type": "code",
   "execution_count": 5,
   "metadata": {},
   "outputs": [],
   "source": [
    "# get paths to data files\n",
    "file_paths = glob(\"./data/*.txt\")\n",
    "\n",
    "# load all data into a single array\n",
    "data = np.array([np.loadtxt(fname) for fname in file_paths])\n",
    "N, M, K = data.shape\n",
    "\n",
    "# define number of samples for each subject\n",
    "n_samples = 24 \n",
    "\n",
    "# split into the three different data types\n",
    "# data_A = data[:, 0, :]\n",
    "# data_V = data[:, 1, :]\n",
    "# data_AV = data[:, 2:, :]"
   ]
  },
  {
   "cell_type": "markdown",
   "metadata": {},
   "source": [
    "## Fit MLE"
   ]
  },
  {
   "cell_type": "code",
   "execution_count": 10,
   "metadata": {},
   "outputs": [],
   "source": [
    "def compute_params(c_A, c_V, std_A, std_V):\n",
    "    \"\"\"Compute the parameters for the MLE model from the free parameters\"\"\"\n",
    "\n",
    "    # get variances from standard deviations\n",
    "    var_A = std_A ** 2\n",
    "    var_V = std_V ** 2\n",
    "\n",
    "    # compute denominator for calculations\n",
    "    den = 1 / (var_A + var_V) \n",
    "\n",
    "    # compute mean and variance\n",
    "    mu_AV = np.zeros((5, 5))\n",
    "    for a in np.arange(5):\n",
    "        for v in np.arange(5):\n",
    "            mu_AV[a, v] = ((a+1 - c_A) * var_V + (v+1 - c_V) * var_A) * den\n",
    "    var_AV = var_A * var_V * den\n",
    "\n",
    "    # return mean and standard deviation\n",
    "    return mu_AV, np.sqrt(var_AV)"
   ]
  },
  {
   "cell_type": "code",
   "execution_count": 11,
   "metadata": {},
   "outputs": [],
   "source": [
    "def objective_function(theta, data, n_samples):\n",
    "    \"\"\" Compute MLE objective function on data (7, 5) from a single subject\n",
    "        where theta=[c_A, c_V, log(std_A), log(std_V)].\"\"\"\n",
    "\n",
    "    # extract parameters\n",
    "    c_A, c_V, std_A, std_V = theta\n",
    "    std_A, std_V = np.exp(std_A), np.exp(std_V)\n",
    "\n",
    "    # compute shifted means\n",
    "    mu_At = c_A - (np.arange(5) + 1)\n",
    "    mu_Vt = c_V - (np.arange(5) + 1)\n",
    "\n",
    "    # compute parameters for audiovisual\n",
    "    mu_AV, std_AV = compute_params(c_A, c_V, std_A, std_V)\n",
    "\n",
    "    # compute the probabilities\n",
    "    p_A = norm.cdf(data[0], mu_At, std_A)\n",
    "    p_V = norm.cdf(data[1], mu_Vt, std_V)\n",
    "    p_AV = norm.cdf(data[2:], mu_AV, std_AV)\n",
    "\n",
    "    # compute and return the negative log-likelihood\n",
    "    return compute_log_likelihood(p_A, p_V, p_AV, data, n_samples)"
   ]
  },
  {
   "cell_type": "code",
   "execution_count": 12,
   "metadata": {},
   "outputs": [],
   "source": [
    "def mle_fit(data):\n",
    "    \"\"\"Perform MLE fit to data (7, 5) for a single subject\"\"\"\n",
    "    theta = np.random.uniform(low=-1, high=1, size=4)\n",
    "    opt_result = minimize(objective_function, theta, args=(data, n_samples))\n",
    "\n",
    "    objective = opt_result.fun\n",
    "    c_A, c_V, std_A, std_V = opt_result.x\n",
    "    std_A, std_V = np.exp(std_A), np.exp(std_V)\n",
    "\n",
    "    return objective, c_A, c_V, std_A, std_V"
   ]
  },
  {
   "cell_type": "code",
   "execution_count": 13,
   "metadata": {},
   "outputs": [
    {
     "name": "stderr",
     "output_type": "stream",
     "text": [
      "c:\\Users\\sap98\\Documents\\GitHub\\bayesian-audiovisual-speech-perception\\likelihoods.py:12: RuntimeWarning: divide by zero encountered in log\n",
      "  L = np.log(binomial_pmf(data, n_samples, probs)).sum()\n",
      "c:\\Users\\sap98\\Documents\\GitHub\\bayesian-audiovisual-speech-perception\\venv\\lib\\site-packages\\scipy\\optimize\\_numdiff.py:557: RuntimeWarning: invalid value encountered in subtract\n",
      "  df = fun(x) - f0\n"
     ]
    },
    {
     "data": {
      "text/plain": [
       "(inf,\n",
       " -0.8984219626048697,\n",
       " -0.6203280322490676,\n",
       " 0.9713493539373578,\n",
       " 2.0223504285663356)"
      ]
     },
     "execution_count": 13,
     "metadata": {},
     "output_type": "execute_result"
    }
   ],
   "source": [
    "mle_fit(data[0])"
   ]
  },
  {
   "cell_type": "code",
   "execution_count": null,
   "metadata": {},
   "outputs": [],
   "source": []
  },
  {
   "cell_type": "code",
   "execution_count": null,
   "metadata": {},
   "outputs": [],
   "source": []
  }
 ],
 "metadata": {
  "interpreter": {
   "hash": "7ae6420fea58855bab07a2db0ccb178bd45b7ed6aec1fc262c9ac8b07865ab6d"
  },
  "kernelspec": {
   "display_name": "Python 3.7.12 64-bit ('ipy': conda)",
   "language": "python",
   "name": "python3"
  },
  "language_info": {
   "codemirror_mode": {
    "name": "ipython",
    "version": 3
   },
   "file_extension": ".py",
   "mimetype": "text/x-python",
   "name": "python",
   "nbconvert_exporter": "python",
   "pygments_lexer": "ipython3",
   "version": "3.9.9"
  },
  "orig_nbformat": 4
 },
 "nbformat": 4,
 "nbformat_minor": 2
}
