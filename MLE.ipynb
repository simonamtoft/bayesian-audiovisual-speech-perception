{
 "cells": [
  {
   "cell_type": "markdown",
   "metadata": {},
   "source": [
    "# Fitting an early MLE\n",
    "In this notebook we will fit an early MLE model to audiovisual speech perception data."
   ]
  },
  {
   "cell_type": "code",
   "execution_count": 11,
   "metadata": {},
   "outputs": [],
   "source": [
    "import numpy as np\n",
    "from os import path\n",
    "from glob import glob\n",
    "\n",
    "import seaborn as sns\n",
    "import matplotlib.pyplot as plt\n",
    "sns.set()\n",
    "\n",
    "from scipy.stats import norm\n",
    "from scipy.optimize import minimize, LinearConstraint, Bounds"
   ]
  },
  {
   "cell_type": "markdown",
   "metadata": {},
   "source": [
    "## Prepare Data\n",
    "The data consists of five text files, each containing seven rows and five columns, where:\n",
    "- Row 1: Audiotorial data\n",
    "- Row 2: Visual data\n",
    "- Rows 3-7: Audiovisual data\n",
    "    - a combination of rows 1 and 2\n",
    "    - visual goes from 'b' (row 3) to 'd' (row 7) \n",
    "    - audio goes from 'b' (col 1) to 'd' (col 5)"
   ]
  },
  {
   "cell_type": "code",
   "execution_count": 2,
   "metadata": {},
   "outputs": [],
   "source": [
    "# get paths to data files\n",
    "file_paths = glob(\"./data/*.txt\")\n",
    "\n",
    "# load all data into a single array\n",
    "data = np.array([np.loadtxt(fname) for fname in file_paths])\n",
    "N, M, K = data.shape\n",
    "\n",
    "# define number of samples for each subject\n",
    "n_samples = 24 \n",
    "\n",
    "# split into the three different data types\n",
    "data_A = data[:, 0, :]\n",
    "data_V = data[:, 1, :]\n",
    "data_AV = data[:, 2:, :]"
   ]
  },
  {
   "cell_type": "markdown",
   "metadata": {},
   "source": [
    "## Fit MLE"
   ]
  },
  {
   "cell_type": "code",
   "execution_count": 28,
   "metadata": {},
   "outputs": [],
   "source": [
    "def compute_params(c_A, c_V, std_A, std_V):\n",
    "    \"\"\"Compute the parameters for the MLE model from the free parameters\"\"\"\n",
    "\n",
    "    # get variances from standard deviations\n",
    "    var_A = std_A ** 2\n",
    "    var_V = std_V ** 2\n",
    "    \n",
    "    # compute denominator for calculations\n",
    "    den = 1 / (var_A + var_V) \n",
    "\n",
    "    # compute mean and variance\n",
    "    mu_AV = np.zeros((5, 5))\n",
    "    for i in np.arange(5):\n",
    "        for j in np.arange(5):\n",
    "            mu_AV[i, j] = ((i+1 - c_A) * var_V + (j+1 - c_V) * var_A) * den\n",
    "    var_AV = var_A * var_V * den\n",
    "\n",
    "    # return mean and standard deviation\n",
    "    return mu_AV, np.sqrt(var_AV)"
   ]
  },
  {
   "cell_type": "code",
   "execution_count": 66,
   "metadata": {},
   "outputs": [],
   "source": [
    "def objective_function(theta, data):\n",
    "    \"\"\"Compute MLE objective function on data (7, 5) from a single subject\n",
    "        where theta=[c_A, c_V, std_A, std_V].\n",
    "    \"\"\"\n",
    "    # extract parameters\n",
    "    c_A, c_V, std_A, std_V = theta\n",
    "\n",
    "    # compute parameters for audiovisual\n",
    "    mu_AV, std_AV = compute_params(c_A, c_V, std_A, std_V)\n",
    "\n",
    "    # compute the probabilities\n",
    "    p_A = norm.pdf(data[0], np.arange(5) + 1, std_A)\n",
    "    p_V = norm.pdf(data[1], np.arange(5) + 1, std_V)\n",
    "    p_AV = norm.pdf(data[2:], mu_AV, std_AV)\n",
    "\n",
    "    # compute the log-likelihoods\n",
    "\n",
    "    # L = L_A + L_V + L_AV\n",
    "\n",
    "    # return the negative log-likelihood\n",
    "    return -L"
   ]
  },
  {
   "cell_type": "code",
   "execution_count": 67,
   "metadata": {},
   "outputs": [],
   "source": [
    "def mle_fit(data):\n",
    "    \"\"\"Perform MLE fit to data (7, 5) for a single subject\"\"\"\n",
    "    theta = np.random.uniform(low=1, high=10, size=4)\n",
    "    opt_result = minimize(objective_function, theta, args=(data))\n",
    "\n",
    "    objective = opt_result.fun\n",
    "    c_A, c_V, std_A, std_V = opt_result.x\n",
    "\n",
    "    return objective, c_A, c_V, std_A, std_V"
   ]
  },
  {
   "cell_type": "code",
   "execution_count": 68,
   "metadata": {},
   "outputs": [
    {
     "data": {
      "text/plain": [
       "(126.69748843548382,\n",
       " -15.430128402568867,\n",
       " -4.388938836581458,\n",
       " 9.568175724416966,\n",
       " 15.010315618578769)"
      ]
     },
     "execution_count": 68,
     "metadata": {},
     "output_type": "execute_result"
    }
   ],
   "source": [
    "mle_fit(data[0])"
   ]
  },
  {
   "cell_type": "code",
   "execution_count": null,
   "metadata": {},
   "outputs": [],
   "source": []
  }
 ],
 "metadata": {
  "interpreter": {
   "hash": "7ae6420fea58855bab07a2db0ccb178bd45b7ed6aec1fc262c9ac8b07865ab6d"
  },
  "kernelspec": {
   "display_name": "Python 3.7.12 64-bit ('ipy': conda)",
   "language": "python",
   "name": "python3"
  },
  "language_info": {
   "codemirror_mode": {
    "name": "ipython",
    "version": 3
   },
   "file_extension": ".py",
   "mimetype": "text/x-python",
   "name": "python",
   "nbconvert_exporter": "python",
   "pygments_lexer": "ipython3",
   "version": "3.8.8"
  },
  "orig_nbformat": 4
 },
 "nbformat": 4,
 "nbformat_minor": 2
}
