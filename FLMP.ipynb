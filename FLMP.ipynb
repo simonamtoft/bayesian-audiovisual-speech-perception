{
 "cells": [
  {
   "cell_type": "markdown",
   "metadata": {},
   "source": [
    "# Fitting a FLMP\n",
    "In this notebook, we will fit a Fuzzy Logical Model of Perception (FLMP) to audiovisual speech perception data."
   ]
  },
  {
   "cell_type": "code",
   "execution_count": 10,
   "metadata": {},
   "outputs": [],
   "source": [
    "import numpy as np\n",
    "from os import path\n",
    "from glob import glob\n",
    "\n",
    "import seaborn as sns\n",
    "import matplotlib.pyplot as plt\n",
    "sns.set()\n",
    "\n",
    "from scipy.stats import binom\n",
    "from scipy.special import softmax\n",
    "from scipy.optimize import minimize, LinearConstraint, Bounds"
   ]
  },
  {
   "cell_type": "markdown",
   "metadata": {},
   "source": [
    "## Prepare Data\n",
    "The data consists of five text files, each containing seven rows and five columns, where:\n",
    "- Row 1: Audiotorial data\n",
    "- Row 2: Visual data\n",
    "- Rows 3-7: Audiovisual data\n",
    "    - a combination of rows 1 and 2\n",
    "    - visual goes from 'b' (row 3) to 'd' (row 7) \n",
    "    - audio goes from 'b' (col 1) to 'd' (col 5)"
   ]
  },
  {
   "cell_type": "code",
   "execution_count": 16,
   "metadata": {},
   "outputs": [],
   "source": [
    "# get paths to data files\n",
    "file_paths = glob(\"./data/*.txt\")\n",
    "\n",
    "# load all data into a single array\n",
    "data = np.array([np.loadtxt(fname) for fname in file_paths])\n",
    "N, M, K = data.shape\n",
    "\n",
    "# define number of samples for each subject\n",
    "n_samples = 24 \n",
    "\n",
    "# split into the three different data types\n",
    "data_A = data[:, 0, :]\n",
    "data_V = data[:, 1, :]\n",
    "data_AV = data[:, 2:, :]"
   ]
  },
  {
   "cell_type": "markdown",
   "metadata": {},
   "source": [
    "## Fit FLMP"
   ]
  },
  {
   "cell_type": "code",
   "execution_count": 12,
   "metadata": {},
   "outputs": [],
   "source": [
    "# create softmax function\n",
    "# def softmax():\n",
    "#     raise NotImplementedError"
   ]
  },
  {
   "cell_type": "code",
   "execution_count": 13,
   "metadata": {},
   "outputs": [],
   "source": [
    "def objective_function(theta, data, n_samples=24):\n",
    "    # extract audio and visual parameters\n",
    "    theta_A = theta[0:K]\n",
    "    theta_V = theta[K: ]\n",
    "\n",
    "    # get probabilities for audio and visual\n",
    "    p_A = softmax(theta_A).reshape(-1,1)\n",
    "    p_V = softmax(theta_V).reshape(-1,1)\n",
    "    \n",
    "    # compute audiovisual probabilities by\n",
    "    # taking the outer product for all combinations of audio and visual\n",
    "    p_AV = (p_A @ p_V.T) / (p_A @ p_V.T + (1 - p_A) @ (1 - p_V).T)\n",
    "\n",
    "    # compute the log-likelihoods\n",
    "    L_A = binom.logpmf(data[0], n_samples, p_A ).flatten()\n",
    "    L_V = binom.logpmf(data[1], n_samples, p_V ).flatten()\n",
    "    L_AV = binom.logpmf(data[2:], n_samples, p_AV).flatten()\n",
    "    L = np.concatenate([L_A, L_V, L_AV]).sum()\n",
    "\n",
    "    # return the negative log-likelihood\n",
    "    return -L"
   ]
  },
  {
   "cell_type": "code",
   "execution_count": 29,
   "metadata": {},
   "outputs": [],
   "source": [
    "def flmp_fit(subject_number):\n",
    "    theta = np.zeros(K*2)\n",
    "    opt_result = minimize(objective_function, theta, args=(data[subject_number], n_samples))\n",
    "    objective, theta_A, theta_V, success = (\n",
    "        opt_result.fun, \n",
    "        (opt_result.x[0:K]), \n",
    "        (opt_result.x[K:]), \n",
    "        opt_result.success\n",
    "    )\n",
    "    return objective, theta_A, theta_V"
   ]
  },
  {
   "cell_type": "code",
   "execution_count": 49,
   "metadata": {},
   "outputs": [
    {
     "name": "stdout",
     "output_type": "stream",
     "text": [
      "\n",
      "Results for subject 1\n",
      "Negative log-likelihood: 1991.0090793646566\n",
      "Audio: [-0.56082418 -0.12026456  0.16164677  0.24711243  0.27215999]\n",
      "Visual: [-0.27722709 -0.12429275 -0.02976641  0.1950368   0.23619663]\n",
      "\n",
      "Results for subject 2\n",
      "Negative log-likelihood: 2163.470630921111\n",
      "Audio: [-0.72308405 -0.06943153  0.17484697  0.29822473  0.32073657]\n",
      "Visual: [-0.23186772 -0.05925499  0.02818901  0.09825619  0.16623447]\n",
      "\n",
      "Results for subject 3\n",
      "Negative log-likelihood: 1851.3917708039003\n",
      "Audio: [-0.30291732 -0.11840685  0.06439409  0.15778014  0.19893428]\n",
      "Visual: [-0.35488703 -0.23139429 -0.01874918  0.26417184  0.34061777]\n",
      "\n",
      "Results for subject 4\n",
      "Negative log-likelihood: 1269.7717884082258\n",
      "Audio: [-0.20312541 -0.09689638 -0.02194963  0.08420121  0.23749587]\n",
      "Visual: [-0.5434168  -0.42640156 -0.24808346  0.51627723  0.70137618]\n",
      "\n",
      "Results for subject 5\n",
      "Negative log-likelihood: 1764.099522657972\n",
      "Audio: [-0.25725804 -0.05059468  0.02294307  0.11314843  0.17098669]\n",
      "Visual: [-0.51011694 -0.39250776  0.00703819  0.39706931  0.49772601]\n"
     ]
    }
   ],
   "source": [
    "# perform FLMP fit for each subject\n",
    "theta_A = np.zeros((K, N))\n",
    "theta_V = np.zeros((K, N))\n",
    "neg_L = np.zeros(K)\n",
    "for i in range(K):\n",
    "    obj, tA, tV = flmp_fit(i)\n",
    "\n",
    "    # print results\n",
    "    print(f'\\nResults for subject {i+1}')\n",
    "    print(f'Negative log-likelihood: {obj}')\n",
    "    print(\"Audio:\", tA)\n",
    "    print(\"Visual:\", tV)\n",
    "    neg_L[i] = obj\n",
    "    theta_A[i, :] = tA\n",
    "    theta_V[i, :] = tV"
   ]
  },
  {
   "cell_type": "code",
   "execution_count": null,
   "metadata": {},
   "outputs": [],
   "source": []
  }
 ],
 "metadata": {
  "interpreter": {
   "hash": "dda45a9d22a65c6dd93109812598142693932f67fb0d1052fe9dfaed030e2fe0"
  },
  "kernelspec": {
   "display_name": "Python 3.8.8 64-bit ('base': conda)",
   "name": "python3"
  },
  "language_info": {
   "codemirror_mode": {
    "name": "ipython",
    "version": 3
   },
   "file_extension": ".py",
   "mimetype": "text/x-python",
   "name": "python",
   "nbconvert_exporter": "python",
   "pygments_lexer": "ipython3",
   "version": "3.8.8"
  },
  "orig_nbformat": 4
 },
 "nbformat": 4,
 "nbformat_minor": 2
}
