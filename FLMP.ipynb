{
 "cells": [
  {
   "cell_type": "markdown",
   "metadata": {},
   "source": [
    "# Fitting a FLMP\n",
    "In this notebook, we will fit a Fuzzy Logical Model of Perception (FLMP) to audiovisual speech perception data."
   ]
  },
  {
   "cell_type": "code",
   "execution_count": 1,
   "metadata": {},
   "outputs": [],
   "source": [
    "import numpy as np\n",
    "from os import path\n",
    "from glob import glob\n",
    "\n",
    "import seaborn as sns\n",
    "import matplotlib.pyplot as plt\n",
    "sns.set()\n",
    "\n",
    "from scipy.special import comb\n",
    "from scipy.stats import binom\n",
    "from scipy.optimize import minimize, LinearConstraint, Bounds"
   ]
  },
  {
   "cell_type": "markdown",
   "metadata": {},
   "source": [
    "## Prepare Data\n",
    "The data consists of five text files, each containing seven rows and five columns, where:\n",
    "- Row 1: Audiotorial data\n",
    "- Row 2: Visual data\n",
    "- Rows 3-7: Audiovisual data\n",
    "    - a combination of rows 1 and 2\n",
    "    - visual goes from 'b' (row 3) to 'd' (row 7) \n",
    "    - audio goes from 'b' (col 1) to 'd' (col 5)"
   ]
  },
  {
   "cell_type": "code",
   "execution_count": 2,
   "metadata": {},
   "outputs": [],
   "source": [
    "# get paths to data files\n",
    "file_paths = glob(\"./data/*.txt\")\n",
    "\n",
    "# load all data into a single array\n",
    "data = np.array([np.loadtxt(fname) for fname in file_paths])\n",
    "N, M, K = data.shape\n",
    "\n",
    "# define number of samples for each subject\n",
    "n_samples = 24 \n",
    "\n",
    "# split into the three different data types\n",
    "# data_A = data[:, 0, :]\n",
    "# data_V = data[:, 1, :]\n",
    "# data_AV = data[:, 2:, :]"
   ]
  },
  {
   "cell_type": "markdown",
   "metadata": {},
   "source": [
    "## Fit FLMP"
   ]
  },
  {
   "cell_type": "code",
   "execution_count": 3,
   "metadata": {},
   "outputs": [],
   "source": [
    "# create softmax function\n",
    "def baseline_softmax(x):\n",
    "    x = np.concatenate([\n",
    "        np.array(x).flatten(), [0]\n",
    "    ])\n",
    "    e = np.exp(x)\n",
    "    return e / e.sum()\n",
    "\n",
    "# create our own pmf function\n",
    "def binomial_pmf(k, n, p):\n",
    "    return comb(n, k) * np.power(p, k) * np.power(1 - p, n - k)"
   ]
  },
  {
   "cell_type": "code",
   "execution_count": 4,
   "metadata": {},
   "outputs": [],
   "source": [
    "def objective_function(theta, data, n_samples=24):\n",
    "    # extract audio and visual parameters\n",
    "    theta_A = theta[0:(K-1)]\n",
    "    theta_V = theta[(K-1): ]\n",
    "\n",
    "    # get probabilities for audio and visual\n",
    "    p_A = baseline_softmax(theta_A).reshape(-1,1)\n",
    "    p_V = baseline_softmax(theta_V).reshape(-1,1)\n",
    "    \n",
    "    # compute audiovisual probabilities by\n",
    "    # taking the outer product for all combinations of audio and visual\n",
    "    p_AV = (p_A @ p_V.T) / (p_A @ p_V.T + (1 - p_A) @ (1 - p_V).T)\n",
    "    \n",
    "    # compute the log-likelihoods\n",
    "    # L = np.log(binomial_pmf(data, n_samples, np.vstack([p_A.T, p_V.T, p_AV]))).sum()\n",
    "    L_A = binom.logpmf(data[0], n_samples, p_A).flatten()\n",
    "    L_V = binom.logpmf(data[1], n_samples, p_V).flatten()\n",
    "    L_AV = binom.logpmf(data[2:], n_samples, p_AV).flatten()\n",
    "    L = np.concatenate([L_A, L_V, L_AV]).sum()\n",
    "\n",
    "    # return the negative log-likelihood\n",
    "    return -L"
   ]
  },
  {
   "cell_type": "code",
   "execution_count": 5,
   "metadata": {},
   "outputs": [],
   "source": [
    "def flmp_fit(data, n_samples):\n",
    "    \"\"\"Perform FLMP fit to data\"\"\"\n",
    "    theta = np.zeros((K-1)*2)\n",
    "    opt_result = minimize(objective_function, theta, args=(data, n_samples))\n",
    "    objective, theta_A, theta_V = (\n",
    "        opt_result.fun, \n",
    "        (opt_result.x[0:(K-1)]), \n",
    "        (opt_result.x[(K-1):])\n",
    "    )\n",
    "    return objective, theta_A, theta_V"
   ]
  },
  {
   "cell_type": "code",
   "execution_count": 6,
   "metadata": {},
   "outputs": [
    {
     "name": "stdout",
     "output_type": "stream",
     "text": [
      "\n",
      "Results for subject 1\n",
      "Negative log-likelihood: 1991.0090793646602\n",
      "Audio: [-0.83298402 -0.39242427 -0.11051291 -0.02504735  0.        ]\n",
      "Visual: [-0.51342365 -0.36048932 -0.26596297 -0.04115978  0.        ]\n",
      "\n",
      "Results for subject 2\n",
      "Negative log-likelihood: 2163.470630921128\n",
      "Audio: [-1.04381979 -0.39016762 -0.14588921 -0.02251161  0.        ]\n",
      "Visual: [-0.39810196 -0.22548924 -0.13804517 -0.0679782   0.        ]\n",
      "\n",
      "Results for subject 3\n",
      "Negative log-likelihood: 1851.3917708038994\n",
      "Audio: [-0.50185151 -0.31734084 -0.13454004 -0.04115398  0.        ]\n",
      "Visual: [-0.69550475 -0.57201194 -0.35936676 -0.07644569  0.        ]\n",
      "\n",
      "Results for subject 4\n",
      "Negative log-likelihood: 1269.771788408241\n",
      "Audio: [-0.44062118 -0.33439257 -0.25944566 -0.15329477  0.        ]\n",
      "Visual: [-1.24479319 -1.12777827 -0.94946008 -0.18509925  0.        ]\n",
      "\n",
      "Results for subject 5\n",
      "Negative log-likelihood: 1764.0995226579707\n",
      "Audio: [-0.42824501 -0.22158146 -0.14804333 -0.05783815  0.        ]\n",
      "Visual: [-1.00784283 -0.89023368 -0.49068773 -0.10065651  0.        ]\n"
     ]
    }
   ],
   "source": [
    "# perform FLMP fit for each subject\n",
    "theta_A = np.zeros((K, N))\n",
    "theta_V = np.zeros((K, N))\n",
    "neg_L = np.zeros(K)\n",
    "for i in range(K):\n",
    "    obj, tA, tV = flmp_fit(data[i], n_samples)\n",
    "\n",
    "    # save results\n",
    "    neg_L[i] = obj\n",
    "    theta_A[i, :-1] = tA\n",
    "    theta_V[i, :-1] = tV\n",
    "\n",
    "    # print results\n",
    "    print(f'\\nResults for subject {i+1}')\n",
    "    print(f'Negative log-likelihood: {neg_L[i]}')\n",
    "    print(\"Audio:\", theta_A[i])\n",
    "    print(\"Visual:\", theta_V[i])"
   ]
  },
  {
   "cell_type": "code",
   "execution_count": null,
   "metadata": {},
   "outputs": [],
   "source": []
  }
 ],
 "metadata": {
  "interpreter": {
   "hash": "dda45a9d22a65c6dd93109812598142693932f67fb0d1052fe9dfaed030e2fe0"
  },
  "kernelspec": {
   "display_name": "Python 3.8.8 64-bit ('base': conda)",
   "name": "python3"
  },
  "language_info": {
   "codemirror_mode": {
    "name": "ipython",
    "version": 3
   },
   "file_extension": ".py",
   "mimetype": "text/x-python",
   "name": "python",
   "nbconvert_exporter": "python",
   "pygments_lexer": "ipython3",
   "version": "3.7.11"
  },
  "orig_nbformat": 4
 },
 "nbformat": 4,
 "nbformat_minor": 2
}
