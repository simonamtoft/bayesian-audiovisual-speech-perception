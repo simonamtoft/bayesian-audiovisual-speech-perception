{
 "cells": [
  {
   "cell_type": "markdown",
   "metadata": {},
   "source": [
    "# Fitting a FLMP\n",
    "In this notebook, we will fit a Fuzzy Logical Model of Perception (FLMP) to audiovisual speech perception data."
   ]
  },
  {
   "cell_type": "code",
   "execution_count": 2,
   "metadata": {},
   "outputs": [],
   "source": [
    "import numpy as np\n",
    "from os import path\n",
    "from glob import glob\n",
    "\n",
    "import seaborn as sns\n",
    "import matplotlib.pyplot as plt\n",
    "sns.set()\n",
    "\n",
    "from scipy.stats import binom\n",
    "from scipy.optimize import minimize, LinearConstraint, Bounds"
   ]
  },
  {
   "cell_type": "markdown",
   "metadata": {},
   "source": [
    "## Prepare Data\n",
    "The data consists of five text files, each containing seven rows and five columns, where:\n",
    "- Row 1: Audiotorial data\n",
    "- Row 2: Visual data\n",
    "- Rows 3-7: Audiovisual data\n",
    "    - a combination of rows 1 and 2\n",
    "    - visual goes from 'b' (row 3) to 'd' (row 7) \n",
    "    - audio goes from 'b' (col 1) to 'd' (col 5)"
   ]
  },
  {
   "cell_type": "code",
   "execution_count": 4,
   "metadata": {},
   "outputs": [],
   "source": [
    "# get paths to data files\n",
    "file_paths = glob(\"./data/*.txt\")\n",
    "\n",
    "# load all data into a single array\n",
    "data = np.array([np.loadtxt(fname) for fname in file_paths])\n",
    "N, M, K = data.shape\n",
    "\n",
    "# define number of samples for each subject\n",
    "n_samples = 24 \n",
    "\n",
    "# split into the three different data types\n",
    "data_A = data[:, 0, :]\n",
    "data_V = data[:, 1, :]\n",
    "data_AV = data[:, 2:, :]"
   ]
  },
  {
   "cell_type": "markdown",
   "metadata": {},
   "source": [
    "## Fit FLMP"
   ]
  },
  {
   "cell_type": "code",
   "execution_count": 12,
   "metadata": {},
   "outputs": [],
   "source": [
    "# create softmax function\n",
    "def softmax(x):\n",
    "    x = np.concatenate([\n",
    "        np.array([x]).flatten(), [0]\n",
    "    ])\n",
    "    e = np.exp(x)\n",
    "    return e[0] / e.sum()"
   ]
  },
  {
   "cell_type": "code",
   "execution_count": 19,
   "metadata": {},
   "outputs": [],
   "source": [
    "def objective_function(theta, data, n_samples=24):\n",
    "    # extract audio and visual parameters\n",
    "    theta_A = theta[0:K]\n",
    "    theta_V = theta[K: ]\n",
    "\n",
    "    # get probabilities for audio and visual\n",
    "    p_A = np.array([softmax(t) for t in theta_A]).reshape(-1,1)\n",
    "    p_V = np.array([softmax(t) for t in theta_V]).reshape(-1,1)\n",
    "    \n",
    "    # compute audiovisual probabilities by\n",
    "    # taking the outer product for all combinations of audio and visual\n",
    "    p_AV = (p_A @ p_V.T) / (p_A @ p_V.T + (1 - p_A) @ (1 - p_V).T)\n",
    "\n",
    "    # compute the log-likelihoods\n",
    "    L_A = binom.logpmf(data[0], n_samples, p_A).flatten()\n",
    "    L_V = binom.logpmf(data[1], n_samples, p_V).flatten()\n",
    "    L_AV = binom.logpmf(data[2:], n_samples, p_AV).flatten()\n",
    "    L = np.concatenate([L_A, L_V, L_AV]).sum()\n",
    "\n",
    "    # return the negative log-likelihood\n",
    "    return -L"
   ]
  },
  {
   "cell_type": "code",
   "execution_count": 21,
   "metadata": {},
   "outputs": [],
   "source": [
    "def flmp_fit(data, n_samples):\n",
    "    \"\"\"Perform FLMP fit to data\"\"\"\n",
    "    theta = np.zeros(K*2)\n",
    "    opt_result = minimize(objective_function, theta, args=(data, n_samples))\n",
    "    objective, theta_A, theta_V, success = (\n",
    "        opt_result.fun, \n",
    "        (opt_result.x[0:K]), \n",
    "        (opt_result.x[K:]), \n",
    "        opt_result.success\n",
    "    )\n",
    "    return objective, theta_A, theta_V"
   ]
  },
  {
   "cell_type": "code",
   "execution_count": 22,
   "metadata": {},
   "outputs": [
    {
     "name": "stdout",
     "output_type": "stream",
     "text": [
      "\n",
      "Results for subject 1\n",
      "Negative log-likelihood: 759.176649778559\n",
      "Audio: [-1.30064673 -0.58587845 -0.03341137  0.15842406  0.2175664 ]\n",
      "Visual: [0.3172988  0.63992309 0.86817301 1.56726399 1.73585165]\n",
      "\n",
      "Results for subject 2\n",
      "Negative log-likelihood: 745.9722540530329\n",
      "Audio: [-1.39272991 -0.29460939  0.25587803  0.59689654  0.66610558]\n",
      "Visual: [0.39729936 0.8235022  1.08317759 1.32397916 1.59814042]\n",
      "\n",
      "Results for subject 3\n",
      "Negative log-likelihood: 657.7838496588919\n",
      "Audio: [-0.63204668 -0.30334678  0.06146461  0.26914399  0.36668493]\n",
      "Visual: [-0.06229031  0.15831717  0.59669424  1.40463173  1.71854354]\n",
      "\n",
      "Results for subject 4\n",
      "Negative log-likelihood: 742.049544918451\n",
      "Audio: [-0.65235525 -0.49645715 -0.38296974 -0.21665941  0.03682489]\n",
      "Visual: [-0.89757279 -0.74897411 -0.51324393  0.72452223  1.13194639]\n",
      "\n",
      "Results for subject 5\n",
      "Negative log-likelihood: 805.7723566088321\n",
      "Audio: [-0.84433922 -0.49486813 -0.3632717  -0.19551532 -0.08375168]\n",
      "Visual: [-0.32344638 -0.14628076  0.55624044  1.58036762  1.99291431]\n"
     ]
    }
   ],
   "source": [
    "# perform FLMP fit for each subject\n",
    "theta_A = np.zeros((K, N))\n",
    "theta_V = np.zeros((K, N))\n",
    "neg_L = np.zeros(K)\n",
    "for i in range(K):\n",
    "    obj, tA, tV = flmp_fit(data[i], n_samples)\n",
    "\n",
    "    # print results\n",
    "    print(f'\\nResults for subject {i+1}')\n",
    "    print(f'Negative log-likelihood: {obj}')\n",
    "    print(\"Audio:\", tA)\n",
    "    print(\"Visual:\", tV)\n",
    "    neg_L[i] = obj\n",
    "    theta_A[i, :] = tA\n",
    "    theta_V[i, :] = tV"
   ]
  },
  {
   "cell_type": "code",
   "execution_count": null,
   "metadata": {},
   "outputs": [],
   "source": []
  }
 ],
 "metadata": {
  "interpreter": {
   "hash": "dda45a9d22a65c6dd93109812598142693932f67fb0d1052fe9dfaed030e2fe0"
  },
  "kernelspec": {
   "display_name": "Python 3.8.8 64-bit ('base': conda)",
   "name": "python3"
  },
  "language_info": {
   "codemirror_mode": {
    "name": "ipython",
    "version": 3
   },
   "file_extension": ".py",
   "mimetype": "text/x-python",
   "name": "python",
   "nbconvert_exporter": "python",
   "pygments_lexer": "ipython3",
   "version": "3.8.8"
  },
  "orig_nbformat": 4
 },
 "nbformat": 4,
 "nbformat_minor": 2
}
